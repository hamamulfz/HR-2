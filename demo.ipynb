{
 "cells": [
  {
   "cell_type": "code",
   "execution_count": 1,
   "id": "737e9f8a",
   "metadata": {},
   "outputs": [],
   "source": [
    "import tensorflow as tf\n",
    "import numpy as np\n",
    "import os\n",
    "import pandas as pd\n",
    "import matplotlib.pyplot as plt\n",
    "import re\n",
    "import string\n",
    "\n",
    "from tensorflow import keras\n",
    "from tensorflow.keras import layers\n",
    "from tensorflow.keras.utils import load_img, img_to_array\n",
    "from tensorflow.keras.utils import to_categorical\n",
    "from sklearn.preprocessing import LabelEncoder\n",
    "\n",
    "np.random.seed(42)\n",
    "tf.random.set_seed(42)"
   ]
  },
  {
   "cell_type": "code",
   "execution_count": 2,
   "id": "9bd4b793",
   "metadata": {},
   "outputs": [],
   "source": [
    "trainset_detail = pd.read_csv('C:/Users/yogy-/Downloads/MLT2D DTS2022 Demo Day/Handwritting Recognition/written_name_train_v2.csv', sep=',')\n",
    "validset_detail = pd.read_csv('C:/Users/yogy-/Downloads/MLT2D DTS2022 Demo Day/Handwritting Recognition/written_name_validation_v2.csv', sep=',')    \n",
    "testset_detail = pd.read_csv('C:/Users/yogy-/Downloads/MLT2D DTS2022 Demo Day/Handwritting Recognition/written_name_test_v2.csv', sep=',')                              "
   ]
  },
  {
   "cell_type": "code",
   "execution_count": 3,
   "id": "d9461420",
   "metadata": {
    "scrolled": true
   },
   "outputs": [
    {
     "name": "stdout",
     "output_type": "stream",
     "text": [
      "Dimensi Trainset (330961, 2)\n",
      "Dimensi Validationset (41370, 2)\n",
      "Dimensi Testset (41370, 2)\n"
     ]
    }
   ],
   "source": [
    "print(\"Dimensi Trainset \" + str(trainset_detail.shape))\n",
    "print(\"Dimensi Validationset \" + str(validset_detail.shape))\n",
    "print(\"Dimensi Testset \" + str(testset_detail.shape))"
   ]
  },
  {
   "cell_type": "code",
   "execution_count": 4,
   "id": "48750305",
   "metadata": {},
   "outputs": [
    {
     "name": "stdout",
     "output_type": "stream",
     "text": [
      "                FILENAME       IDENTITY\n",
      "330956  TRAIN_330957.jpg          LENNY\n",
      "330957  TRAIN_330958.jpg        TIFFANY\n",
      "330958  TRAIN_330959.jpg  COUTINHO DESA\n",
      "330959  TRAIN_330960.jpg         MOURAD\n",
      "330960  TRAIN_330961.jpg        HELOISE\n",
      "              FILENAME    IDENTITY\n",
      "0  VALIDATION_0001.jpg       BILEL\n",
      "1  VALIDATION_0002.jpg  LAUMIONIER\n",
      "2  VALIDATION_0003.jpg         LEA\n",
      "3  VALIDATION_0004.jpg   JEAN-ROCH\n",
      "4  VALIDATION_0005.jpg        RUPP\n",
      "        FILENAME  IDENTITY\n",
      "0  TEST_0001.jpg     KEVIN\n",
      "1  TEST_0002.jpg  CLOTAIRE\n",
      "2  TEST_0003.jpg      LENA\n",
      "3  TEST_0004.jpg     JULES\n",
      "4  TEST_0005.jpg   CHERPIN\n"
     ]
    }
   ],
   "source": [
    "print(trainset_detail.tail())\n",
    "print(validset_detail.head())\n",
    "print(testset_detail.head())"
   ]
  },
  {
   "cell_type": "code",
   "execution_count": 5,
   "id": "3f8a59fa",
   "metadata": {},
   "outputs": [
    {
     "name": "stdout",
     "output_type": "stream",
     "text": [
      "<class 'pandas.core.frame.DataFrame'>\n",
      "RangeIndex: 330961 entries, 0 to 330960\n",
      "Data columns (total 2 columns):\n",
      " #   Column    Non-Null Count   Dtype \n",
      "---  ------    --------------   ----- \n",
      " 0   FILENAME  330961 non-null  object\n",
      " 1   IDENTITY  330396 non-null  object\n",
      "dtypes: object(2)\n",
      "memory usage: 5.1+ MB\n",
      "None\n",
      "<class 'pandas.core.frame.DataFrame'>\n",
      "RangeIndex: 41370 entries, 0 to 41369\n",
      "Data columns (total 2 columns):\n",
      " #   Column    Non-Null Count  Dtype \n",
      "---  ------    --------------  ----- \n",
      " 0   FILENAME  41370 non-null  object\n",
      " 1   IDENTITY  41292 non-null  object\n",
      "dtypes: object(2)\n",
      "memory usage: 646.5+ KB\n",
      "None\n",
      "<class 'pandas.core.frame.DataFrame'>\n",
      "RangeIndex: 41370 entries, 0 to 41369\n",
      "Data columns (total 2 columns):\n",
      " #   Column    Non-Null Count  Dtype \n",
      "---  ------    --------------  ----- \n",
      " 0   FILENAME  41370 non-null  object\n",
      " 1   IDENTITY  41300 non-null  object\n",
      "dtypes: object(2)\n",
      "memory usage: 646.5+ KB\n",
      "None\n"
     ]
    }
   ],
   "source": [
    "print(trainset_detail.info())\n",
    "print(validset_detail.info())\n",
    "print(testset_detail.info())\n",
    "\n",
    "# Note : terlihat terdapat label yang NaN/Null"
   ]
  },
  {
   "cell_type": "code",
   "execution_count": 6,
   "id": "60d5f53e",
   "metadata": {},
   "outputs": [],
   "source": [
    "# change nan with \"unidentified\"\n",
    "trainset_detail['IDENTITY'] = trainset_detail['IDENTITY'].replace(np.nan, \"unidentified\")\n",
    "validset_detail['IDENTITY'] = validset_detail['IDENTITY'].replace(np.nan, \"unidentified\")\n",
    "testset_detail['IDENTITY'] = testset_detail['IDENTITY'].replace(np.nan, \"unidentified\")"
   ]
  },
  {
   "cell_type": "code",
   "execution_count": 7,
   "id": "2234ef2d",
   "metadata": {},
   "outputs": [],
   "source": [
    "# Text preprocessing function\n",
    "str_punc = string.punctuation.replace(',', '').replace(\"'\",'')\n",
    "\n",
    "def clean(text):\n",
    "    global str_punc\n",
    "    text = re.sub(r'[^a-zA-Z ]', '', text)\n",
    "    text = text.replace(\" \", \"\")\n",
    "    text = text.lower()\n",
    "    return text "
   ]
  },
  {
   "cell_type": "code",
   "execution_count": 8,
   "id": "9c0a6609",
   "metadata": {},
   "outputs": [],
   "source": [
    "# preprocessed text label\n",
    "trainset_detail['IDENTITY'] = trainset_detail['IDENTITY'].apply(clean)\n",
    "validset_detail['IDENTITY'] = validset_detail['IDENTITY'].apply(clean)\n",
    "testset_detail['IDENTITY'] = testset_detail['IDENTITY'].apply(clean)"
   ]
  },
  {
   "cell_type": "code",
   "execution_count": 9,
   "id": "d4667876",
   "metadata": {},
   "outputs": [
    {
     "name": "stdout",
     "output_type": "stream",
     "text": [
      "<class 'pandas.core.frame.DataFrame'>\n",
      "RangeIndex: 330961 entries, 0 to 330960\n",
      "Data columns (total 2 columns):\n",
      " #   Column    Non-Null Count   Dtype \n",
      "---  ------    --------------   ----- \n",
      " 0   FILENAME  330961 non-null  object\n",
      " 1   IDENTITY  330961 non-null  object\n",
      "dtypes: object(2)\n",
      "memory usage: 5.1+ MB\n",
      "None\n",
      "<class 'pandas.core.frame.DataFrame'>\n",
      "RangeIndex: 41370 entries, 0 to 41369\n",
      "Data columns (total 2 columns):\n",
      " #   Column    Non-Null Count  Dtype \n",
      "---  ------    --------------  ----- \n",
      " 0   FILENAME  41370 non-null  object\n",
      " 1   IDENTITY  41370 non-null  object\n",
      "dtypes: object(2)\n",
      "memory usage: 646.5+ KB\n",
      "None\n",
      "<class 'pandas.core.frame.DataFrame'>\n",
      "RangeIndex: 41370 entries, 0 to 41369\n",
      "Data columns (total 2 columns):\n",
      " #   Column    Non-Null Count  Dtype \n",
      "---  ------    --------------  ----- \n",
      " 0   FILENAME  41370 non-null  object\n",
      " 1   IDENTITY  41370 non-null  object\n",
      "dtypes: object(2)\n",
      "memory usage: 646.5+ KB\n",
      "None\n"
     ]
    }
   ],
   "source": [
    "print(trainset_detail.info())\n",
    "print(validset_detail.info())\n",
    "print(testset_detail.info())\n",
    "\n",
    "# Note : sudah tidak terdapat kolom yang mengandung NaN/Null"
   ]
  },
  {
   "cell_type": "code",
   "execution_count": 10,
   "id": "38d96264",
   "metadata": {},
   "outputs": [],
   "source": [
    "basepath = 'C:/Users/yogy-/Downloads/'\n",
    "traindir = os.path.dirname('MLT2D DTS2022 Demo Day/Handwritting Recognition/train_v2/')\n",
    "validdir = os.path.dirname('MLT2D DTS2022 Demo Day/Handwritting Recognition/validation_v2/')\n",
    "testdir = os.path.dirname('MLT2D DTS2022 Demo Day/Handwritting Recognition/test_v2/')"
   ]
  },
  {
   "cell_type": "code",
   "execution_count": 46,
   "id": "8d5b1bac",
   "metadata": {},
   "outputs": [],
   "source": [
    "trainset_path = []\n",
    "trainset_label = []\n",
    "for i in range(len(trainset_detail)) :\n",
    "    img_file = basepath+traindir+r'/'+trainset_detail['FILENAME'][i]\n",
    "    if os.path.getsize(img_file):\n",
    "        trainset_path.append(img_file)\n",
    "        if len(trainset_detail['IDENTITY'][i]) > 0 :\n",
    "            trainset_label.append(trainset_detail['IDENTITY'][i])\n",
    "        else :\n",
    "            trainset_label.append(\"unidentified\")\n",
    "        \n",
    "validset_path = []\n",
    "validset_label = []\n",
    "for i in range(len(validset_detail)) :\n",
    "    img_file = basepath+validdir+r'/'+validset_detail['FILENAME'][i]\n",
    "    if os.path.getsize(img_file):\n",
    "        validset_path.append(img_file)\n",
    "        if len(validset_detail['IDENTITY'][i]) > 0 :\n",
    "            validset_label.append(validset_detail['IDENTITY'][i])\n",
    "        else :\n",
    "            validset_label.append(\"unidentified\")\n",
    "        \n",
    "testset_path = []\n",
    "testset_label = []\n",
    "for i in range(len(testset_detail)) :\n",
    "    img_file = basepath+testdir+r'/'+testset_detail['FILENAME'][i]\n",
    "    if os.path.getsize(img_file):\n",
    "        testset_path.append(img_file)\n",
    "        if len(testset_detail['IDENTITY'][i]) > 0 :\n",
    "            testset_label.append(testset_detail['IDENTITY'][i])\n",
    "        else :\n",
    "            testset_label.append(\"unidentified\")"
   ]
  },
  {
   "cell_type": "code",
   "execution_count": 47,
   "id": "f16326f6",
   "metadata": {},
   "outputs": [
    {
     "data": {
      "text/plain": [
       "31"
      ]
     },
     "execution_count": 47,
     "metadata": {},
     "output_type": "execute_result"
    }
   ],
   "source": [
    "# Get max length label\n",
    "max_length1 = max([len(label) for label in trainset_label])\n",
    "max_length2 = max([len(label) for label in validset_label])\n",
    "max_length3 = max([len(label) for label in testset_label])\n",
    "makslen = max(max_length1,max_length2,max_length3)\n",
    "makslen"
   ]
  },
  {
   "cell_type": "code",
   "execution_count": 48,
   "id": "ccbeb64f",
   "metadata": {},
   "outputs": [
    {
     "data": {
      "image/png": "[encoded data removed]",
      "text/plain": [
       "<Figure size 432x288 with 1 Axes>"
      ]
     },
     "metadata": {
      "needs_background": "light"
     },
     "output_type": "display_data"
    },
    {
     "name": "stdout",
     "output_type": "stream",
     "text": [
      "simon\n"
     ]
    }
   ],
   "source": [
    "img = load_img(trainset_path[1])\n",
    "x = img_to_array(img)\n",
    "x = x / 255\n",
    "plt.gray()\n",
    "plt.imshow(x)\n",
    "plt.show()\n",
    "print(trainset_label[1])"
   ]
  },
  {
   "cell_type": "code",
   "execution_count": 49,
   "id": "72160270",
   "metadata": {},
   "outputs": [],
   "source": [
    "set_characters = set(char for label in trainset_label for char in label)\n",
    "\n",
    "# Mapping characters to integers\n",
    "char_to_num = keras.layers.StringLookup(vocabulary=list(set_characters), mask_token=None)\n",
    "\n",
    "# Mapping integers back to original characters\n",
    "num_to_char = keras.layers.StringLookup(\n",
    "    vocabulary=char_to_num.get_vocabulary(), mask_token=None, invert=True\n",
    ")"
   ]
  },
  {
   "cell_type": "code",
   "execution_count": 50,
   "id": "9f772dcb",
   "metadata": {},
   "outputs": [],
   "source": [
    "def encode_label(image,label):\n",
    "    # for image\n",
    "    img = tf.io.read_file(image)\n",
    "    img = tf.io.decode_jpeg(img,channels=1) # perhatikan ini\n",
    "    # 3. Convert to float32 in [0, 1] range\n",
    "    img = tf.image.convert_image_dtype(img, tf.float32) # perhatikan ini\n",
    "    img = tf.image.resize(img, [50, 200], method=tf.image.ResizeMethod.NEAREST_NEIGHBOR) # perhatikan ini\n",
    "    img = tf.transpose(img, perm=[1, 0, 2])\n",
    "    # for label\n",
    "    label = char_to_num(tf.strings.unicode_split(label, 'UTF-8'))\n",
    "    length = tf.shape(label)[0]\n",
    "    pad_amount = makslen - length\n",
    "    label = tf.pad(label, paddings = [[0, pad_amount]], constant_values = 99)\n",
    "    return {'image':img,'label':label}"
   ]
  },
  {
   "cell_type": "code",
   "execution_count": 51,
   "id": "473a44ad",
   "metadata": {},
   "outputs": [],
   "source": [
    "# mapping dataset in order to use encoded label\n",
    "trainset = tf.data.Dataset.from_tensor_slices((trainset_path,trainset_label))\n",
    "trainset = (\n",
    "             trainset.map(encode_label, num_parallel_calls=tf.data.AUTOTUNE).batch(64).prefetch(buffer_size=tf.data.AUTOTUNE)\n",
    "            )\n",
    "\n",
    "validateset = tf.data.Dataset.from_tensor_slices((validset_path,validset_label))\n",
    "validateset = (\n",
    "               validateset.map(encode_label, num_parallel_calls=tf.data.AUTOTUNE).batch(64).prefetch(buffer_size=tf.data.AUTOTUNE)\n",
    "              )"
   ]
  },
  {
   "cell_type": "code",
   "execution_count": 82,
   "id": "f5a95ee3",
   "metadata": {
    "scrolled": false
   },
   "outputs": [
    {
     "data": {
      "image/png": "[encoded data removed]",
      "text/plain": [
       "<Figure size 720x360 with 16 Axes>"
      ]
     },
     "metadata": {
      "needs_background": "light"
     },
     "output_type": "display_data"
    }
   ],
   "source": [
    "_, ax = plt.subplots(4, 4, figsize=(10, 5))\n",
    "for batch in trainset.take(1):\n",
    "    images = batch[\"image\"]\n",
    "    labels = batch[\"label\"]\n",
    "    \n",
    "    for i in range(16):\n",
    "        img = images[i]\n",
    "        #img = tf.image.flip_left_right(img)\n",
    "        img = tf.transpose(img, perm=[1,0,2])\n",
    "        img = (img * 255.0).numpy().clip(0,255).astype(\"uint8\")\n",
    "        img = img[:,:,0]\n",
    "        \n",
    "        label = labels[i]\n",
    "        indices = tf.gather(label, tf.where(tf.math.not_equal(label,99)))\n",
    "        label = tf.strings.reduce_join(num_to_char(indices))\n",
    "        label = label.numpy().decode(\"utf-8\")\n",
    "        \n",
    "        ax[i//4,i%4].imshow(img,cmap=\"gray\")\n",
    "        ax[i//4,i%4].set_title(label)\n",
    "        ax[i//4,i%4].axis(\"off\")\n",
    "        \n",
    "plt.show()"
   ]
  },
  {
   "cell_type": "code",
   "execution_count": 52,
   "id": "9baffdb8",
   "metadata": {},
   "outputs": [],
   "source": [
    "class CTCLayer(layers.Layer):\n",
    "    def __init__(self, name=None):\n",
    "        super().__init__(name=name)\n",
    "        self.loss_fn = keras.backend.ctc_batch_cost\n",
    "\n",
    "    def call(self, y_true, y_pred):\n",
    "        # Compute the training-time loss value and add it\n",
    "        # to the layer using `self.add_loss()`.\n",
    "        batch_len = tf.cast(tf.shape(y_true)[0], dtype=\"int64\")\n",
    "        input_length = tf.cast(tf.shape(y_pred)[1], dtype=\"int64\")\n",
    "        label_length = tf.cast(tf.shape(y_true)[1], dtype=\"int64\")\n",
    "\n",
    "        input_length = input_length * tf.ones(shape=(batch_len, 1), dtype=\"int64\")\n",
    "        label_length = label_length * tf.ones(shape=(batch_len, 1), dtype=\"int64\")\n",
    "\n",
    "        loss = self.loss_fn(y_true, y_pred, input_length, label_length)\n",
    "        self.add_loss(loss)\n",
    "\n",
    "        # At test time, just return the computed predictions\n",
    "        return y_pred"
   ]
  },
  {
   "cell_type": "code",
   "execution_count": 53,
   "id": "3c562340",
   "metadata": {},
   "outputs": [],
   "source": [
    "def build_model():\n",
    "    # Inputs to the model\n",
    "    input_img = layers.Input(\n",
    "        shape=(200, 50, 1), name=\"image\", dtype=\"float32\"\n",
    "    )\n",
    "    labels = layers.Input(name=\"label\", shape=(None,), dtype=\"float32\")\n",
    "    \n",
    "    # First conv block\n",
    "    x = layers.Conv2D(16, (3, 3), activation=\"relu\", padding=\"same\")(input_img)\n",
    "    x = layers.MaxPooling2D(pool_size=(2, 2),strides=2)(x)\n",
    "    # Second conv block\n",
    "    x = layers.Conv2D(32, (3, 3), activation=\"relu\", padding=\"same\")(x)\n",
    "    x = layers.MaxPooling2D(pool_size=(2, 2),strides=2)(x)\n",
    "    \n",
    "    # Hence, downsampled feature maps are 4x smaller. The number of\n",
    "    # filters in the last layer is 32. Reshape accordingly before\n",
    "    # passing the output to the RNN part of the model\n",
    "    new_shape = ((200 // 4), (50 // 4) * 32)\n",
    "    x = layers.Reshape(target_shape=new_shape)(x)\n",
    "    x = layers.Dense(32, activation=\"relu\")(x)\n",
    "    x = layers.Dropout(0.2)(x)\n",
    "    \n",
    "    # RNNs\n",
    "    x = layers.Bidirectional(layers.LSTM(64, return_sequences=True, dropout=0.25))(x)\n",
    "    x = layers.Bidirectional(layers.LSTM(32, return_sequences=True, dropout=0.25))(x)\n",
    "\n",
    "    # Output layer\n",
    "    x = layers.Dense(len(char_to_num.get_vocabulary()) + 1, activation=\"softmax\")(x)\n",
    "    \n",
    "    # Add CTC layer for calculating CTC loss at each step\n",
    "    output = CTCLayer(name=\"ctc_loss\")(labels, x)\n",
    "\n",
    "    # Define the model\n",
    "    model = keras.models.Model(\n",
    "                inputs=[input_img, labels], outputs=output\n",
    "            )\n",
    "    # Optimizer\n",
    "    opt = keras.optimizers.Adam(learning_rate=0.0001)\n",
    "    # Compile the model and return\n",
    "    model.compile(optimizer=opt)\n",
    "    return model"
   ]
  },
  {
   "cell_type": "code",
   "execution_count": 54,
   "id": "af2d254b",
   "metadata": {},
   "outputs": [
    {
     "name": "stdout",
     "output_type": "stream",
     "text": [
      "Model: \"model_2\"\n",
      "__________________________________________________________________________________________________\n",
      " Layer (type)                   Output Shape         Param #     Connected to                     \n",
      "==================================================================================================\n",
      " image (InputLayer)             [(None, 200, 50, 1)  0           []                               \n",
      "                                ]                                                                 \n",
      "                                                                                                  \n",
      " conv2d_6 (Conv2D)              (None, 200, 50, 16)  160         ['image[0][0]']                  \n",
      "                                                                                                  \n",
      " max_pooling2d_6 (MaxPooling2D)  (None, 100, 25, 16)  0          ['conv2d_6[0][0]']               \n",
      "                                                                                                  \n",
      " conv2d_7 (Conv2D)              (None, 100, 25, 32)  4640        ['max_pooling2d_6[0][0]']        \n",
      "                                                                                                  \n",
      " max_pooling2d_7 (MaxPooling2D)  (None, 50, 12, 32)  0           ['conv2d_7[0][0]']               \n",
      "                                                                                                  \n",
      " reshape_3 (Reshape)            (None, 50, 384)      0           ['max_pooling2d_7[0][0]']        \n",
      "                                                                                                  \n",
      " dense_4 (Dense)                (None, 50, 32)       12320       ['reshape_3[0][0]']              \n",
      "                                                                                                  \n",
      " dropout_2 (Dropout)            (None, 50, 32)       0           ['dense_4[0][0]']                \n",
      "                                                                                                  \n",
      " bidirectional_4 (Bidirectional  (None, 50, 128)     49664       ['dropout_2[0][0]']              \n",
      " )                                                                                                \n",
      "                                                                                                  \n",
      " bidirectional_5 (Bidirectional  (None, 50, 64)      41216       ['bidirectional_4[0][0]']        \n",
      " )                                                                                                \n",
      "                                                                                                  \n",
      " label (InputLayer)             [(None, None)]       0           []                               \n",
      "                                                                                                  \n",
      " dense_5 (Dense)                (None, 50, 28)       1820        ['bidirectional_5[0][0]']        \n",
      "                                                                                                  \n",
      " ctc_loss (CTCLayer)            (None, 50, 28)       0           ['label[0][0]',                  \n",
      "                                                                  'dense_5[0][0]']                \n",
      "                                                                                                  \n",
      "==================================================================================================\n",
      "Total params: 109,820\n",
      "Trainable params: 109,820\n",
      "Non-trainable params: 0\n",
      "__________________________________________________________________________________________________\n"
     ]
    }
   ],
   "source": [
    "# Get the model\n",
    "model = build_model()\n",
    "model.summary()"
   ]
  },
  {
   "cell_type": "code",
   "execution_count": 55,
   "id": "0596da51",
   "metadata": {
    "scrolled": false
   },
   "outputs": [
    {
     "name": "stdout",
     "output_type": "stream",
     "text": [
      "Epoch 1/30\n",
      "5172/5172 [==============================] - ETA: 0s - loss: 20.9203WARNING:tensorflow:Early stopping conditioned on metric `val_accuracy` which is not available. Available metrics are: loss,val_loss\n",
      "5172/5172 [==============================] - 1933s 373ms/step - loss: 20.9203 - val_loss: 19.1213\n",
      "Epoch 2/30\n",
      "5172/5172 [==============================] - ETA: 0s - loss: 18.6851WARNING:tensorflow:Early stopping conditioned on metric `val_accuracy` which is not available. Available metrics are: loss,val_loss\n",
      "5172/5172 [==============================] - 1762s 341ms/step - loss: 18.6851 - val_loss: 18.3957\n",
      "Epoch 3/30\n",
      "5172/5172 [==============================] - ETA: 0s - loss: 18.1789WARNING:tensorflow:Early stopping conditioned on metric `val_accuracy` which is not available. Available metrics are: loss,val_loss\n",
      "5172/5172 [==============================] - 1700s 329ms/step - loss: 18.1789 - val_loss: 17.8235\n",
      "Epoch 4/30\n",
      "5172/5172 [==============================] - ETA: 0s - loss: 17.3796WARNING:tensorflow:Early stopping conditioned on metric `val_accuracy` which is not available. Available metrics are: loss,val_loss\n",
      "5172/5172 [==============================] - 1688s 326ms/step - loss: 17.3796 - val_loss: 16.8562\n",
      "Epoch 5/30\n",
      "5172/5172 [==============================] - ETA: 0s - loss: 16.4962WARNING:tensorflow:Early stopping conditioned on metric `val_accuracy` which is not available. Available metrics are: loss,val_loss\n",
      "5172/5172 [==============================] - 1739s 336ms/step - loss: 16.4962 - val_loss: 15.8229\n",
      "Epoch 6/30\n",
      "5172/5172 [==============================] - ETA: 0s - loss: 15.6560WARNING:tensorflow:Early stopping conditioned on metric `val_accuracy` which is not available. Available metrics are: loss,val_loss\n",
      "5172/5172 [==============================] - 1754s 339ms/step - loss: 15.6560 - val_loss: 15.0346\n",
      "Epoch 7/30\n",
      "5172/5172 [==============================] - ETA: 0s - loss: 15.0239WARNING:tensorflow:Early stopping conditioned on metric `val_accuracy` which is not available. Available metrics are: loss,val_loss\n",
      "5172/5172 [==============================] - 1754s 339ms/step - loss: 15.0239 - val_loss: 14.4073\n",
      "Epoch 8/30\n",
      "5172/5172 [==============================] - ETA: 0s - loss: 14.4312WARNING:tensorflow:Early stopping conditioned on metric `val_accuracy` which is not available. Available metrics are: loss,val_loss\n",
      "5172/5172 [==============================] - 1750s 338ms/step - loss: 14.4312 - val_loss: 13.6812\n",
      "Epoch 9/30\n",
      "5172/5172 [==============================] - ETA: 0s - loss: 13.7382WARNING:tensorflow:Early stopping conditioned on metric `val_accuracy` which is not available. Available metrics are: loss,val_loss\n",
      "5172/5172 [==============================] - 1769s 342ms/step - loss: 13.7382 - val_loss: 12.8397\n",
      "Epoch 10/30\n",
      "5172/5172 [==============================] - ETA: 0s - loss: 12.9899WARNING:tensorflow:Early stopping conditioned on metric `val_accuracy` which is not available. Available metrics are: loss,val_loss\n",
      "5172/5172 [==============================] - 1754s 339ms/step - loss: 12.9899 - val_loss: 11.9663\n",
      "Epoch 11/30\n",
      "5172/5172 [==============================] - ETA: 0s - loss: 12.2613WARNING:tensorflow:Early stopping conditioned on metric `val_accuracy` which is not available. Available metrics are: loss,val_loss\n",
      "5172/5172 [==============================] - 1719s 332ms/step - loss: 12.2613 - val_loss: 11.1827\n",
      "Epoch 12/30\n",
      "5172/5172 [==============================] - ETA: 0s - loss: 11.5949WARNING:tensorflow:Early stopping conditioned on metric `val_accuracy` which is not available. Available metrics are: loss,val_loss\n",
      "5172/5172 [==============================] - 1711s 331ms/step - loss: 11.5949 - val_loss: 10.5351\n",
      "Epoch 13/30\n",
      "5172/5172 [==============================] - ETA: 0s - loss: 10.9589WARNING:tensorflow:Early stopping conditioned on metric `val_accuracy` which is not available. Available metrics are: loss,val_loss\n",
      "5172/5172 [==============================] - 1714s 331ms/step - loss: 10.9589 - val_loss: 9.8393\n",
      "Epoch 14/30\n",
      "5172/5172 [==============================] - ETA: 0s - loss: 10.3335WARNING:tensorflow:Early stopping conditioned on metric `val_accuracy` which is not available. Available metrics are: loss,val_loss\n",
      "5172/5172 [==============================] - 1712s 331ms/step - loss: 10.3335 - val_loss: 9.0700\n",
      "Epoch 15/30\n",
      "5172/5172 [==============================] - ETA: 0s - loss: 9.6994WARNING:tensorflow:Early stopping conditioned on metric `val_accuracy` which is not available. Available metrics are: loss,val_loss\n",
      "5172/5172 [==============================] - 1735s 336ms/step - loss: 9.6994 - val_loss: 8.3567\n",
      "Epoch 16/30\n",
      "5172/5172 [==============================] - ETA: 0s - loss: 9.1083WARNING:tensorflow:Early stopping conditioned on metric `val_accuracy` which is not available. Available metrics are: loss,val_loss\n",
      "5172/5172 [==============================] - 1737s 336ms/step - loss: 9.1083 - val_loss: 7.7855\n",
      "Epoch 17/30\n",
      "5172/5172 [==============================] - ETA: 0s - loss: 8.6030WARNING:tensorflow:Early stopping conditioned on metric `val_accuracy` which is not available. Available metrics are: loss,val_loss\n",
      "5172/5172 [==============================] - 1740s 336ms/step - loss: 8.6030 - val_loss: 7.3144\n",
      "Epoch 18/30\n",
      "5172/5172 [==============================] - ETA: 0s - loss: 8.1887WARNING:tensorflow:Early stopping conditioned on metric `val_accuracy` which is not available. Available metrics are: loss,val_loss\n",
      "5172/5172 [==============================] - 1755s 339ms/step - loss: 8.1887 - val_loss: 6.9759\n",
      "Epoch 19/30\n",
      "5172/5172 [==============================] - ETA: 0s - loss: 7.8590WARNING:tensorflow:Early stopping conditioned on metric `val_accuracy` which is not available. Available metrics are: loss,val_loss\n",
      "5172/5172 [==============================] - 1751s 339ms/step - loss: 7.8590 - val_loss: 6.6506\n",
      "Epoch 20/30\n",
      "5172/5172 [==============================] - ETA: 0s - loss: 7.5685WARNING:tensorflow:Early stopping conditioned on metric `val_accuracy` which is not available. Available metrics are: loss,val_loss\n",
      "5172/5172 [==============================] - 1756s 339ms/step - loss: 7.5685 - val_loss: 6.3781\n",
      "Epoch 21/30\n",
      "5172/5172 [==============================] - ETA: 0s - loss: 7.3275WARNING:tensorflow:Early stopping conditioned on metric `val_accuracy` which is not available. Available metrics are: loss,val_loss\n",
      "5172/5172 [==============================] - 1730s 334ms/step - loss: 7.3275 - val_loss: 6.1911\n",
      "Epoch 22/30\n",
      "5172/5172 [==============================] - ETA: 0s - loss: 7.1175WARNING:tensorflow:Early stopping conditioned on metric `val_accuracy` which is not available. Available metrics are: loss,val_loss\n",
      "5172/5172 [==============================] - 1729s 334ms/step - loss: 7.1175 - val_loss: 5.9711\n",
      "Epoch 23/30\n",
      "5172/5172 [==============================] - ETA: 0s - loss: 6.9209WARNING:tensorflow:Early stopping conditioned on metric `val_accuracy` which is not available. Available metrics are: loss,val_loss\n",
      "5172/5172 [==============================] - 1813s 351ms/step - loss: 6.9209 - val_loss: 5.7942\n",
      "Epoch 24/30\n",
      "5172/5172 [==============================] - ETA: 0s - loss: 6.7503WARNING:tensorflow:Early stopping conditioned on metric `val_accuracy` which is not available. Available metrics are: loss,val_loss\n",
      "5172/5172 [==============================] - 1775s 343ms/step - loss: 6.7503 - val_loss: 5.6029\n",
      "Epoch 25/30\n",
      "5172/5172 [==============================] - ETA: 0s - loss: 6.5867WARNING:tensorflow:Early stopping conditioned on metric `val_accuracy` which is not available. Available metrics are: loss,val_loss\n",
      "5172/5172 [==============================] - 1818s 351ms/step - loss: 6.5867 - val_loss: 5.4438\n",
      "Epoch 26/30\n",
      "5172/5172 [==============================] - ETA: 0s - loss: 6.4321WARNING:tensorflow:Early stopping conditioned on metric `val_accuracy` which is not available. Available metrics are: loss,val_loss\n",
      "5172/5172 [==============================] - 1758s 340ms/step - loss: 6.4321 - val_loss: 5.3073\n",
      "Epoch 27/30\n",
      "5172/5172 [==============================] - ETA: 0s - loss: 6.2883WARNING:tensorflow:Early stopping conditioned on metric `val_accuracy` which is not available. Available metrics are: loss,val_loss\n",
      "5172/5172 [==============================] - 1764s 341ms/step - loss: 6.2883 - val_loss: 5.1687\n",
      "Epoch 28/30\n",
      "5172/5172 [==============================] - ETA: 0s - loss: 6.1498WARNING:tensorflow:Early stopping conditioned on metric `val_accuracy` which is not available. Available metrics are: loss,val_loss\n",
      "5172/5172 [==============================] - 1792s 346ms/step - loss: 6.1498 - val_loss: 5.0526\n",
      "Epoch 29/30\n",
      "5172/5172 [==============================] - ETA: 0s - loss: 6.0222WARNING:tensorflow:Early stopping conditioned on metric `val_accuracy` which is not available. Available metrics are: loss,val_loss\n",
      "5172/5172 [==============================] - 1780s 344ms/step - loss: 6.0222 - val_loss: 4.9135\n",
      "Epoch 30/30\n",
      "5172/5172 [==============================] - ETA: 0s - loss: 5.8991WARNING:tensorflow:Early stopping conditioned on metric `val_accuracy` which is not available. Available metrics are: loss,val_loss\n",
      "5172/5172 [==============================] - 1824s 353ms/step - loss: 5.8991 - val_loss: 4.8052\n"
     ]
    }
   ],
   "source": [
    "epochs = 30\n",
    "early_stopping_patience = 10\n",
    "# Add early stopping\n",
    "early_stopping = keras.callbacks.EarlyStopping(\n",
    "    monitor=\"val_accuracy\", patience=early_stopping_patience, restore_best_weights=True\n",
    ")\n",
    "\n",
    "# Train the model\n",
    "process_train = model.fit(\n",
    "    trainset,\n",
    "    validation_data=validateset,\n",
    "    epochs=epochs,\n",
    "    callbacks=[early_stopping],\n",
    ")"
   ]
  },
  {
   "cell_type": "code",
   "execution_count": 75,
   "id": "3f7b1f5a",
   "metadata": {},
   "outputs": [
    {
     "name": "stdout",
     "output_type": "stream",
     "text": [
      "Model: \"model_6\"\n",
      "_________________________________________________________________\n",
      " Layer (type)                Output Shape              Param #   \n",
      "=================================================================\n",
      " image (InputLayer)          [(None, 200, 50, 1)]      0         \n",
      "                                                                 \n",
      " conv2d_6 (Conv2D)           (None, 200, 50, 16)       160       \n",
      "                                                                 \n",
      " max_pooling2d_6 (MaxPooling  (None, 100, 25, 16)      0         \n",
      " 2D)                                                             \n",
      "                                                                 \n",
      " conv2d_7 (Conv2D)           (None, 100, 25, 32)       4640      \n",
      "                                                                 \n",
      " max_pooling2d_7 (MaxPooling  (None, 50, 12, 32)       0         \n",
      " 2D)                                                             \n",
      "                                                                 \n",
      " reshape_3 (Reshape)         (None, 50, 384)           0         \n",
      "                                                                 \n",
      " dense_4 (Dense)             (None, 50, 32)            12320     \n",
      "                                                                 \n",
      " dropout_2 (Dropout)         (None, 50, 32)            0         \n",
      "                                                                 \n",
      " bidirectional_4 (Bidirectio  (None, 50, 128)          49664     \n",
      " nal)                                                            \n",
      "                                                                 \n",
      " bidirectional_5 (Bidirectio  (None, 50, 64)           41216     \n",
      " nal)                                                            \n",
      "                                                                 \n",
      " dense_5 (Dense)             (None, 50, 28)            1820      \n",
      "                                                                 \n",
      "=================================================================\n",
      "Total params: 109,820\n",
      "Trainable params: 109,820\n",
      "Non-trainable params: 0\n",
      "_________________________________________________________________\n"
     ]
    }
   ],
   "source": [
    "# Get the prediction model by extracting layers till the output layer\n",
    "prediction_model = keras.models.Model(\n",
    "    model.get_layer(name=\"image\").input, model.get_layer(name=\"dense_5\").output\n",
    ")\n",
    "prediction_model.summary()\n",
    "\n",
    "# A utility function to decode the output of the network\n",
    "def decode_batch_predictions(pred):\n",
    "    input_len = np.ones(pred.shape[0]) * pred.shape[1]\n",
    "    # Use greedy search. For complex tasks, you can use beam search\n",
    "    results = keras.backend.ctc_decode(pred, input_length=input_len, greedy=True)[0][0][\n",
    "        :, :makslen\n",
    "    ]\n",
    "    # Iterate over the results and get back the text\n",
    "    output_text = []\n",
    "    for res in results:\n",
    "        res = tf.gather(res, tf.where(tf.math.not_equal(res, -1)))\n",
    "        res = tf.strings.reduce_join(num_to_char(res)).numpy().decode(\"utf-8\")\n",
    "        output_text.append(res)\n",
    "    return output_text\n",
    "\n",
    "\n"
   ]
  },
  {
   "cell_type": "code",
   "execution_count": 95,
   "id": "ea0fd49b",
   "metadata": {},
   "outputs": [],
   "source": [
    "testset = tf.data.Dataset.from_tensor_slices((testset_path,testset_label))\n",
    "testset = (\n",
    "               testset.map(encode_label, num_parallel_calls=tf.data.AUTOTUNE).batch(64).prefetch(buffer_size=tf.data.AUTOTUNE)\n",
    "              )"
   ]
  },
  {
   "cell_type": "code",
   "execution_count": 114,
   "id": "239b69a9",
   "metadata": {},
   "outputs": [
    {
     "name": "stdout",
     "output_type": "stream",
     "text": [
      "2/2 [==============================] - 0s 107ms/step\n",
      "0\n",
      "[[255 255 255 ... 255 255 255]\n",
      " [255 255 255 ... 255 255 255]\n",
      " [255 255 255 ... 255 255 255]\n",
      " ...\n",
      " [255 255 255 ... 255 255 255]\n",
      " [255 255 255 ... 255 255 255]\n",
      " [255 255 255 ... 255 255 255]]\n",
      "1\n",
      "[[255 255 255 ... 255 255 255]\n",
      " [255 255 255 ... 255 255 255]\n",
      " [255 255 255 ... 255 255 255]\n",
      " ...\n",
      " [255 255 255 ... 255 255 255]\n",
      " [255 255 255 ... 255 255 255]\n",
      " [255 255 255 ... 255 255 255]]\n",
      "2\n",
      "[[255 255 255 ... 255 255 255]\n",
      " [255 255 255 ... 255 255 255]\n",
      " [255 255 255 ... 255 255 255]\n",
      " ...\n",
      " [255 255 255 ... 255 255 255]\n",
      " [255 255 255 ... 255 255 255]\n",
      " [255 255 255 ... 255 255 255]]\n",
      "3\n",
      "[[255 255 255 ... 255 255 255]\n",
      " [255 255 255 ... 255 255 255]\n",
      " [255 255 255 ... 255 255 255]\n",
      " ...\n",
      " [255 255 255 ... 255 255 255]\n",
      " [255 255 255 ... 255 255 255]\n",
      " [255 255 255 ... 255 255 255]]\n",
      "4\n",
      "[[255 255 255 ... 255 255 255]\n",
      " [255 255 255 ... 255 255 255]\n",
      " [255 255 255 ... 255 255 255]\n",
      " ...\n",
      " [255 255 255 ... 255 255 255]\n",
      " [255 255 255 ... 255 255 255]\n",
      " [255 255 255 ... 255 255 255]]\n",
      "5\n",
      "[[197 197   0 ... 157  73  73]\n",
      " [176 176   0 ...  27 197 197]\n",
      " [178 178   2 ...  66 102 102]\n",
      " ...\n",
      " [255 255 255 ... 255 255 255]\n",
      " [255 255 255 ... 255 255 255]\n",
      " [255 255 255 ... 255 255 255]]\n",
      "6\n",
      "[[255 255 255 ... 255 255 255]\n",
      " [255 255 255 ... 255 255 255]\n",
      " [255 255 255 ... 255 255 255]\n",
      " ...\n",
      " [255 255 255 ... 255 255 255]\n",
      " [255 255 255 ... 255 255 255]\n",
      " [255 255 255 ... 255 255 255]]\n",
      "7\n",
      "[[255 255 255 ... 255 255 255]\n",
      " [255 255 255 ... 255 255 255]\n",
      " [255 255 255 ... 255 255 255]\n",
      " ...\n",
      " [255 255 255 ... 255 255 255]\n",
      " [255 255 255 ... 255 255 255]\n",
      " [255 255 255 ... 255 255 255]]\n",
      "8\n",
      "[[250 250  95 ...  45 255 255]\n",
      " [249 249  92 ... 250 255 255]\n",
      " [202 202  78 ...  50 255 255]\n",
      " ...\n",
      " [255 255 255 ... 255 255 255]\n",
      " [255 255 255 ... 255 255 255]\n",
      " [255 255 255 ... 255 255 255]]\n",
      "9\n",
      "[[255 255 255 ... 255 255 255]\n",
      " [255 255 255 ... 255 255 255]\n",
      " [255 255 255 ... 255 255 255]\n",
      " ...\n",
      " [255 255 255 ... 255 255 255]\n",
      " [255 255 255 ... 255 255 255]\n",
      " [255 255 255 ... 255 255 255]]\n",
      "10\n",
      "[[255 254 254 ... 255 255 255]\n",
      " [254 254 254 ... 255 255 255]\n",
      " [247 253 253 ... 255 255 255]\n",
      " ...\n",
      " [255 255 255 ... 255 255 255]\n",
      " [255 255 255 ... 255 255 255]\n",
      " [255 255 255 ... 255 255 255]]\n",
      "11\n",
      "[[255 255 255 ... 255 255 255]\n",
      " [255 255 255 ... 255 255 255]\n",
      " [255 255 255 ... 255 255 255]\n",
      " ...\n",
      " [255 255 255 ... 255 255 255]\n",
      " [255 255 255 ... 255 255 255]\n",
      " [255 255 255 ... 255 255 255]]\n",
      "12\n",
      "[[255 255 255 ... 255 255 255]\n",
      " [255 255 255 ... 255 255 255]\n",
      " [255 255 255 ... 255 255 255]\n",
      " ...\n",
      " [255 255 255 ... 255 255 255]\n",
      " [255 255 255 ... 255 255 255]\n",
      " [255 255 255 ... 255 255 255]]\n",
      "13\n",
      "[[255 255 255 ... 255 255 255]\n",
      " [255 255 255 ... 255 255 255]\n",
      " [255 255 255 ... 255 255 255]\n",
      " ...\n",
      " [255 255 255 ... 255 255 255]\n",
      " [255 255 255 ... 255 255 255]\n",
      " [255 255 255 ... 255 255 255]]\n",
      "14\n",
      "[[250 250 249 ... 249 249 249]\n",
      " [ 69  69  69 ...  71  72  72]\n",
      " [253 253 251 ... 253 253 253]\n",
      " ...\n",
      " [255 255 255 ... 255 255 255]\n",
      " [255 255 255 ... 255 255 255]\n",
      " [255 255 255 ... 255 255 255]]\n",
      "15\n",
      "[[255 255 255 ... 255 255 255]\n",
      " [255 255 255 ... 255 255 255]\n",
      " [255 255 255 ... 255 255 255]\n",
      " ...\n",
      " [255 255 255 ... 255 255 255]\n",
      " [255 255 255 ... 255 255 255]\n",
      " [255 255 255 ... 255 255 255]]\n",
      "16\n",
      "[[255 255 255 ... 255 255 255]\n",
      " [255 255 255 ... 255 255 255]\n",
      " [255 255 255 ... 255 255 255]\n",
      " ...\n",
      " [255 255 255 ... 255 255 255]\n",
      " [255 255 255 ... 255 255 255]\n",
      " [255 255 255 ... 255 255 255]]\n"
     ]
    },
    {
     "ename": "IndexError",
     "evalue": "index 4 is out of bounds for axis 0 with size 4",
     "output_type": "error",
     "traceback": [
      "\u001b[1;31m---------------------------------------------------------------------------\u001b[0m",
      "\u001b[1;31mIndexError\u001b[0m                                Traceback (most recent call last)",
      "Input \u001b[1;32mIn [114]\u001b[0m, in \u001b[0;36m<cell line: 2>\u001b[1;34m()\u001b[0m\n\u001b[0;32m     19\u001b[0m img \u001b[38;5;241m=\u001b[39m img\u001b[38;5;241m.\u001b[39mT\n\u001b[0;32m     20\u001b[0m title \u001b[38;5;241m=\u001b[39m \u001b[38;5;124mf\u001b[39m\u001b[38;5;124m\"\u001b[39m\u001b[38;5;124mPrediction: \u001b[39m\u001b[38;5;132;01m{\u001b[39;00mpred_texts[i]\u001b[38;5;132;01m}\u001b[39;00m\u001b[38;5;124m\"\u001b[39m\n\u001b[1;32m---> 21\u001b[0m \u001b[43max\u001b[49m\u001b[43m[\u001b[49m\u001b[43mi\u001b[49m\u001b[43m \u001b[49m\u001b[38;5;241;43m/\u001b[39;49m\u001b[38;5;241;43m/\u001b[39;49m\u001b[43m \u001b[49m\u001b[38;5;241;43m4\u001b[39;49m\u001b[43m,\u001b[49m\u001b[43m \u001b[49m\u001b[43mi\u001b[49m\u001b[43m \u001b[49m\u001b[38;5;241;43m%\u001b[39;49m\u001b[43m \u001b[49m\u001b[38;5;241;43m4\u001b[39;49m\u001b[43m]\u001b[49m\u001b[38;5;241m.\u001b[39mimshow(img, cmap\u001b[38;5;241m=\u001b[39m\u001b[38;5;124m\"\u001b[39m\u001b[38;5;124mgray\u001b[39m\u001b[38;5;124m\"\u001b[39m)\n\u001b[0;32m     22\u001b[0m ax[i \u001b[38;5;241m/\u001b[39m\u001b[38;5;241m/\u001b[39m \u001b[38;5;241m4\u001b[39m, i \u001b[38;5;241m%\u001b[39m \u001b[38;5;241m4\u001b[39m]\u001b[38;5;241m.\u001b[39mset_title(title)\n\u001b[0;32m     23\u001b[0m ax[i \u001b[38;5;241m/\u001b[39m\u001b[38;5;241m/\u001b[39m \u001b[38;5;241m4\u001b[39m, i \u001b[38;5;241m%\u001b[39m \u001b[38;5;241m4\u001b[39m]\u001b[38;5;241m.\u001b[39maxis(\u001b[38;5;124m\"\u001b[39m\u001b[38;5;124moff\u001b[39m\u001b[38;5;124m\"\u001b[39m)\n",
      "\u001b[1;31mIndexError\u001b[0m: index 4 is out of bounds for axis 0 with size 4"
     ]
    },
    {
     "data": {
      "image/png": "[encoded data removed]",
      "text/plain": [
       "<Figure size 720x360 with 16 Axes>"
      ]
     },
     "metadata": {
      "needs_background": "light"
     },
     "output_type": "display_data"
    }
   ],
   "source": [
    "#  Let's check results on some validation samples\n",
    "for batch in testset.take(1):\n",
    "    batch_images = batch[\"image\"]\n",
    "    batch_labels = batch[\"label\"]\n",
    "\n",
    "    preds = prediction_model.predict(batch_images)\n",
    "    pred_texts = decode_batch_predictions(preds)\n",
    "\n",
    "    orig_texts = []\n",
    "    for label in batch_labels:\n",
    "        label = tf.strings.reduce_join(num_to_char(label)).numpy().decode(\"utf-8\")\n",
    "        orig_texts.append(label)\n",
    "\n",
    "    _, ax = plt.subplots(4, 4, figsize=(10, 5))\n",
    "    for i in range(len(pred_texts)):\n",
    "        img = (batch_images[i, :, :, 0] * 255).numpy().astype(np.uint8)\n",
    "        print(i)\n",
    "        print(img)        \n",
    "        img = img.T\n",
    "        title = f\"Prediction: {pred_texts[i]}\"\n",
    "        ax[i // 4, i % 4].imshow(img, cmap=\"gray\")\n",
    "        ax[i // 4, i % 4].set_title(title)\n",
    "        ax[i // 4, i % 4].axis(\"off\")\n",
    "plt.show()"
   ]
  },
  {
   "cell_type": "code",
   "execution_count": 88,
   "id": "e4ce39c7",
   "metadata": {},
   "outputs": [
    {
     "data": {
      "image/png": "[encoded data removed]",
      "text/plain": [
       "<Figure size 432x288 with 1 Axes>"
      ]
     },
     "metadata": {
      "needs_background": "light"
     },
     "output_type": "display_data"
    },
    {
     "data": {
      "text/plain": [
       "<Figure size 432x288 with 0 Axes>"
      ]
     },
     "metadata": {},
     "output_type": "display_data"
    }
   ],
   "source": [
    "# Visualize Loss & Accuracy\n",
    "\n",
    "%matplotlib inline\n",
    "loss = process_train.history['loss']\n",
    "val_loss = process_train.history['val_loss']\n",
    "\n",
    "epochs = range(len(loss))\n",
    "\n",
    "plt.plot(epochs, loss, 'r', label='Training Loss')\n",
    "plt.plot(epochs, val_loss, 'b', label='Validation Loss')\n",
    "plt.title('Training and validation loss')\n",
    "plt.legend()\n",
    "plt.figure()\n",
    "\n",
    "plt.show()"
   ]
  },
  {
   "cell_type": "code",
   "execution_count": 91,
   "id": "d6453ee2",
   "metadata": {},
   "outputs": [],
   "source": [
    "model.save('Handwritten Recognition.h5')"
   ]
  },
  {
   "cell_type": "code",
   "execution_count": null,
   "id": "4f8ac39f",
   "metadata": {},
   "outputs": [],
   "source": [
    "https://github.com/naveen-marthala/Higly-Imabalanced-Image-Classification---in-tensorflow-keras/blob/master/imbalanced-classification-on-fruits.ipynb\n",
    "https://machinelearningmastery.com/multi-class-imbalanced-classification/\n",
    "https://www.tensorflow.org/tutorials/structured_data/imbalanced_data#build_the_model   \n",
    "https://www.analyticsvidhya.com/blog/2020/08/image-augmentation-on-the-fly-using-keras-imagedatagenerator/\n",
    "https://notebook.community/tensorflow/docs/site/en/tutorials/images/classification\n",
    "https://forpythons.com/unable-to-allocate-array-with-shape-and-data-type/\n",
    "https://towardsdatascience.com/cifar-100-pre-processing-for-image-recognition-task-68015b43d658\n",
    "https://keras.io/examples/audio/ctc_asr/\n",
    "https://www.tensorflow.org/api_docs/python/tf/strings/unicode_split\n",
    "https://www.tensorflow.org/api_docs/python/tf/strings/reduce_join\n",
    "https://www.tensorflow.org/api_docs/python/tf/keras/layers/StringLookup\n",
    "https://towardsdatascience.com/intuitively-understanding-connectionist-temporal-classification-3797e43a86c\n",
    "https://towardsdatascience.com/build-a-handwritten-text-recognition-system-using-tensorflow-2326a3487cd5\n",
    "https://stackoverflow.com/questions/70091975/invalidargumenterror-cannot-add-tensor-to-the-batch-number-of-elements-does-no\n",
    "https://colab.research.google.com/github/GoogleCloudPlatform/training-data-analyst/blob/master/courses/fast-and-lean-data-science/02_Dataset_solution.ipynb#scrollTo=MPkvHdAYNt9J\n",
    "https://keras.io/examples/vision/captcha_ocr/\n",
    "https://sid2697.github.io/Blog_Sid/algorithm/2019/10/19/CTC-Loss.html\n",
    "https://www.tensorflow.org/api_docs/python/tf/data/Dataset\n",
    "https://towardsdatascience.com/a-gentle-introduction-to-ocr-ee1469a201aa"
   ]
  }
 ],
 "metadata": {
  "kernelspec": {
   "display_name": "Python 3 (ipykernel)",
   "language": "python",
   "name": "python3"
  },
  "language_info": {
   "codemirror_mode": {
    "name": "ipython",
    "version": 3
   },
   "file_extension": ".py",
   "mimetype": "text/x-python",
   "name": "python",
   "nbconvert_exporter": "python",
   "pygments_lexer": "ipython3",
   "version": "3.10.4"
  }
 },
 "nbformat": 4,
 "nbformat_minor": 5
}
